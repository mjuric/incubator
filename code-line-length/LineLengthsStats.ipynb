{
 "cells": [
  {
   "cell_type": "code",
   "execution_count": 7,
   "metadata": {
    "collapsed": true
   },
   "outputs": [],
   "source": [
    "%matplotlib inline"
   ]
  },
  {
   "cell_type": "code",
   "execution_count": 42,
   "metadata": {
    "collapsed": false
   },
   "outputs": [],
   "source": [
    "import numpy as np\n",
    "import matplotlib.pyplot as plt\n",
    "from scipy import stats\n",
    "\n",
    "def linestats(fn):\n",
    "    lines = open(fn).read().split('\\n')\n",
    "    lines = [l for l in lines if len(l) > 0]   # remove zero-length lines\n",
    "    lengths = np.array([len(line) for line in lines])\n",
    "\n",
    "    plt.style.use('ggplot')\n",
    "    plt.figure(figsize=(10,8))\n",
    "    plt.hist(lengths, 100, cumulative=True, normed=True)\n",
    "\n",
    "    print \"median line length: %s\" % np.median(lengths)\n",
    "    print \"95%% percentile: %s\" % np.percentile(lengths, 95)\n",
    "    print \"Percentile rank of 79-chars: %s\" % stats.percentileofscore(lengths, 79)\n",
    "    \n",
    "    return lines"
   ]
  },
  {
   "cell_type": "code",
   "execution_count": 44,
   "metadata": {
    "collapsed": false
   },
   "outputs": [
    {
     "name": "stdout",
     "output_type": "stream",
     "text": [
      "median line length: 48.0\n",
      "95% percentile: 84.95\n",
      "Percentile rank of 79-chars: 92.5438596491\n"
     ]
    },
    {
     "data": {
      "image/png": "[encoded data removed]",
      "text/plain": [
       "<matplotlib.figure.Figure at 0x10e252250>"
      ]
     },
     "metadata": {},
     "output_type": "display_data"
    }
   ],
   "source": [
    "lines = linestats('eupspkg.nodocstring.py')"
   ]
  },
  {
   "cell_type": "code",
   "execution_count": 45,
   "metadata": {
    "collapsed": false
   },
   "outputs": [
    {
     "name": "stdout",
     "output_type": "stream",
     "text": [
      "    def __init__(self, Eups, distServ, flavor=None, tag=\"current\", options=None,\n",
      "        eupsDistrib.Distrib.__init__(self, Eups, distServ, flavor, tag, options,\n",
      "        # Prepare the string with all unrecognized options, to be passed to eupspkg on the command line\n",
      "        # FIXME: This is not the right way to do it. -S options should be preserved in a separate dict()\n",
      "        knownopts = set(['config', 'nobuild', 'noclean', 'noaction', 'exact', 'allowIncomplete', 'buildDir', 'noeups', 'installCurrent']);\n",
      "        self.qopts = \" \".join( \"%s=%s\" % (k.upper(), pipes.quote(str(v))) for k, v in self.options.iteritems() if k not in knownopts )\n",
      "    def createPackage(self, serverDir, product, version, flavor=None, overwrite=False):\n",
      "                                previously existing distribution files even if Eups.force is false\n",
      "        (baseDir, productDir) = self.getProductInstDir(product, version, flavor)\n",
      "                \"%(eupspkg)s   PREFIX=%(prefix)s PRODUCT=%(product)s VERSION=%(version)s FLAVOR=%(flavor)s %(qopts)s\" + \\\n",
      "            tfn = os.path.join(productsDir, \"%s-%s.eupspkg\" % (product, version))\n",
      "                    cmd = 'cd %s && tar czf %s %s' % (q(pkgdir0), q(tfn), q(prodSubdir))\n",
      "                                that the status of a non-flavor-specific package\n",
      "        location = self.parseDistID(self.getDistIdForPackage(product, version, flavor))\n",
      "        logfile = os.path.join(buildDir, \"build.log\") # we'll log the build to this file\n",
      "        uimsgfile = os.path.join(buildDir, \"build.msg\") # messages to be shown on the console go to this file\n",
      "        # Make sure the buildDir is empty (to avoid interference from failed builds)\n",
      "            os.chmod(buildscript, st.st_mode | stat.S_IXUSR | stat.S_IXGRP | stat.S_IXOTH)\n",
      "            cmd = \"(%s) >> %s 2>&1 4>%s\" % (q(buildscript), q(logfile), q(uimsgfile))\n",
      "                # Copy the build log into the product install directory. It's useful to keep around.\n",
      "                installDirUps = os.path.join(self.Eups.path[0], self.Eups.flavor, product, version, 'ups')\n",
      "                        print >> self.log, \"Build log file copied to %s/%s\" % (installDirUps, os.path.basename(logfile))\n",
      "                    print >> self.log, \"Build log file not copied as %s does not exist (this shouldn't happen).\" % installDirUps\n",
      "                # TODO: This should be piped in real time, not written out to a file and echoed.\n"
     ]
    }
   ],
   "source": [
    "for line in lines:\n",
    "    if len(line) > 79:\n",
    "        print line"
   ]
  },
  {
   "cell_type": "code",
   "execution_count": 46,
   "metadata": {
    "collapsed": false
   },
   "outputs": [
    {
     "name": "stdout",
     "output_type": "stream",
     "text": [
      "median line length: 33.0\n",
      "95% percentile: 78.0\n",
      "Percentile rank of 79-chars: 95.4773869347\n"
     ]
    },
    {
     "data": {
      "image/png": "[encoded data removed]",
      "text/plain": [
       "<matplotlib.figure.Figure at 0x10d451b90>"
      ]
     },
     "metadata": {},
     "output_type": "display_data"
    }
   ],
   "source": [
    "lines = linestats('core.py')"
   ]
  },
  {
   "cell_type": "code",
   "execution_count": 47,
   "metadata": {
    "collapsed": false
   },
   "outputs": [
    {
     "name": "stdout",
     "output_type": "stream",
     "text": [
      "class ThreadedXMLRPCServer(SocketServer.ThreadingMixIn, SimpleXMLRPCServer.SimpleXMLRPCServer):\n",
      "\t\t\t\tlogger.info(\"Lock timing: %s, %.4f, n=%d\" % (self.__name, self.__t, self.__n))\n",
      "\t\t\t\tlogger.info(\"RLock timing: %s, %.4f, n=%d\" % (self.__name, self.__t, self.__n))\n",
      "\t\t\t\tlogger.info(\"Event wait timing: %s, %.4f, n=%d\" % (self.__name, self.__t, self.__n))\n",
      "\tfunc, func_args = (func, ()) if callable(func) or func is None else (func[0], func[1:])\n",
      "\tdef __init__(self, fn=None, argv=None, cwd=None, env=None, nitems=0, nkernels=0, nlocals=0):\n",
      "\t\ts =  \"fn=%s, cwd=%s, argv=%s, len(env)=%s, \" % (self.fn, self.cwd, self.argv, len(self.env))\n",
      "\t\ts += \"nitems=%d, nkernels=%d, nlocals=%d\" % (self.nitems, self.nkernels, self.nlocals)\n",
      "\t\tout.write(b64encode(\"%d %d %d\" % (self.nitems, self.nkernels, self.nlocals)) + '\\n')\n",
      "\t\ttask.env = dict( (b64decode(next(it)), b64decode(next(it))) for _ in xrange(n) )\n",
      "\t\ttask.nitems, task.nkernels, task.nlocals = map(int, b64decode(next(it)).split(' '))\n",
      "\t\t\tprint >>sys.stderr, \"Stage %2d: %7d keys to %7d values, %s (%s)\" % (stage, keys_in, values_out, pct, state)\n",
      "\t\t\tsys.stderr.write(\"Stage %1d/%1d: %7d keys to %7d values, %s (%s)\" % (stage+1, len(status), keys_in, values_out, pct, state))\n",
      "\t\t\t\t#print >>sys.stderr, datetime.datetime.now().ctime(), \"[PROGRESS]\", msg, args\n",
      "\t\t\t'data': b64encode(cPickle.dumps([kernels, locals], -1) + cPickle.dumps(items, -1)),\n",
      "\t\t\t\trth = threading.Thread(target=self._result_stream_thread, args=(rurl, queue))\n",
      "#\t\t\t\tprint >>sys.stderr, datetime.datetime.now().ctime(), \"[PROGRESS]\", msg, args\n",
      "\t# Create the temporary memory mapped buffer. It will go away as soon as the mmap is closed, or the process exits.\n",
      "\t\tfp.close()\t\t\t\t# Close immediately to trigger the unlink()-ing of the unrelying file.\n",
      "\tr_fd = None\t\t# Pipe used to wake up the Scatterer in the asyncore thread (read endpoint)\n",
      "\tw_fd = None\t\t# Pipe used to wake up the Scatterer in the asyncore thread (write endpoint)\n",
      "\t\tThread.__init__(self, target=asyncore.loop, args=asyncore_args, kwargs=asyncore_kwargs, *args, **kwargs)\n",
      "\t\t\tmargin = 4 * 2**10\t# A margin to ensure there's always enough buffer space to queue an AckDoneSentinel\n",
      "\t\t\tincomplete = False\t# Flag set to True when queue() fails to queue the entire packet\n",
      "\t\t\t\t\tlogger.debug(\"len(sata)=%s, len(s)=%s, len(rem)=%s, tell=%s\" % (len(data), len(s), len(rem), self.rdbuf.tell()))\n",
      "\t\tpending_channels = None # A list of channels that need to be added to the asyncore map\n",
      "\t\tpending_done = None\t\t# A list of stages that have finished (and for which we can release Channels)\n",
      "\t\t\tself.buffers = defaultdict(set)\t\t# Output buffers that the worker writes to (keyed by destination stage)\n",
      "\t\t\tself.known_destinations = defaultdict(dict)\t\t\t\t# (stage) -> {(keyhash) -> (wurl)}\n",
      "\t\t\tself.stage_destinations = defaultdict(set)\t\t\t\t# (stage) -> set(ScatterChannel) map\n",
      "\t\t\tself.destinations = weakref.WeakValueDictionary()\t\t\t# (host, port) -> ScatterChannel map\n",
      "\t\t\t#self.fd_destinations = weakref.WeakValueDictionary()\t\t# fd -> ScatterChannel map\n",
      "\t\t\tself.key_destinations = weakref.WeakValueDictionary()\t\t# (stage, keyhash) -> ScatterChannel map\n",
      "\t\t\tself.local_destinations = weakref.WeakValueDictionary()\t\t# A set of all (stage, keyhash) pairs whose destinations are local\n",
      "\t\t\t\t\t.format(host=host, port=port, cinfo=chan._html_()) for (host, port), chan in self.destinations.iteritems()\n",
      "\t\t\t#logger.debug(\"stage_destinations[%s]=%s\" % (stage, self.stage_destinations[stage]))\n",
      "\t\t\tlogger.debug(\"Replacing fd_destinations: %s -> %s\" % (self.fd_destinations, fd_dest))\n",
      "\t\t\t#logger.debug(\"buffer.hash = %s, single_packet = %s\" % (buffer.hash, single_packet))\n",
      "\t\t\t\t\t\tself.known_destinations[stage].update(self.coordinator.get_destinations(stage, keyhash))\n",
      "\t\t\tbuf = None\t# cStringIO instance where we buffer the incoming packet, until it's complete\n",
      "\t\t\tbuffer_cache = None\t# WeakValueDictionary to Buffers (to avoid locking the parent when fetching one)\n",
      "\t\t\t\t\t\t\tbuffer = self.buffer_cache[stage] = self.parent.get_or_create_buffer(stage)\n",
      "\t\t\tnew_value_evts = None\t# dict: key -> (Event(), size) which becomes set once new\n",
      "\t\t\tall_recvd = False\t# True if the stage _before_ the one this Buffer is buffering\n",
      "\t\t\tvtresh = 0; #2**20\t# The size of data in bytes that we'll wait to get buffered before\n",
      "\t\t\t\t#logger.debug(\"key=%s, offset=%s, value=%s\" % (key, mm.tell(), cPickle.loads(pkl_value)))\n",
      "\t\t\t\tmm.write(struct.pack('<Q', len(pkl_value)))\t# 1) Length of the data (uint64)\n",
      "\t\t\t\tmm.write('\\xff'*8)\t\t\t\t# 3) Offset to next item in chain (or 0xFFFFFFFFFFFFFFFF, if end-of-chain)\n",
      "\t\t\t\t\tself._append(KeyChainSentinel, cPickle.dumps((key, self.chains[key][0]), -1))\n",
      "\t\t\t\t\t# Notify listener (Buffer.itervalues instances) that new keys are available\n",
      "\t\t\t\t\t.format(stage=stage, binfo=buffer._html_()) for stage, buffer in self.buffers.iteritems()\n",
      "\t\t\tlength = 0\t# The number of bytes remaining to the end of the packet that was last read\n",
      "\t\t\t\tthreading.Thread.__init__(self, name='Stage-%1d-%1d' % (self.stage, thread_idx))\n",
      "\t\t\t\t\t\tbuffer = self._gatherer_buffer_cache = self.gatherer.get_or_create_buffer(self.stage+1)\n",
      "\t\t\t\thttpd, port = start_server(BaseHTTPServer.HTTPServer, self.ResultHTTPRequestHandler, 1024, self.hostname)\n",
      "\t\t\t\tlogger.info(\"Thread %d for stage %s active on %s\" % (self.thread_idx, stage, self.parent.parent.url))\n",
      "\t\t\t\t# stage = -1 and stage = len(kernels) are special (feeder and collector kernels)\n",
      "\t\t\t\t# stage = 0 and stage = len(kernels)-1 have wrappers to make them look like reducers\n",
      "\t\t\t\t\t#logger.debug(\"Processed stage=%s nkeys=%s nvals=%s\" % (self.stage, self.keys_processed, self.values_generated))\n",
      "\t\tvalues_generated = None\t# The number of values generated by _completed_ threads\n",
      "\t\tmonitor_evt = None\t# Event used to signal the monitor thread that something happened\n",
      "\t\t\t\tself.keys_processed, self.values_generated = th.keys_processed, th.values_generated\n",
      "\t\t\t\tcoord.progress_report(self.parent.url, self.stage, keys_processed, values_generated)\n",
      "\tlocals  = None\t\t# Local variables to be made available to the kernels (TODO: not implemented yet)\n",
      "\tasyncore_thread = None\t# AsyncoreThread instance running asyncore.loop with the gatherer and scatterer\n",
      "\t\t\t\t.format(stage=stage, nthreads=nthreads) for stage, nthreads in self.running_stage_threads.iteritems()\n",
      "\t\tself.asyncore_thread = AsyncoreThread(name='Gather', asyncore_kwargs={'timeout': 3600})\n",
      "\t\tlogger.debug(\"Starting stage %s on %s (maxpeers=%s)\" % (stage, self.url, maxpeers))\n",
      "\t\t\t\tlogger.error(\"Asyncore thread still alive. asyncore_thread.map=%s\" % (self.asyncore_thread.map))\n",
      "\t\t\trunning_stage_threads = None\t# defaultdict(int): the number of threads running each stage on the Worker\n",
      "\t\t\tnkeys                 = None\t# defaultdict(int): the number of keys assigned to this worker, per stage\n",
      "\t\t\tprocess               = None\t# subprocess.Popen class for local workers, None for remote workers\n",
      "\t\t\tprocessing_status = None # dict:stage->count -- The number of keys already processed\n",
      "\t\tserver  = None  # XMLRPCServer instance for this Coordinator (note: this is _not_ the Peer that launched it)\n",
      "\t\tworker_heap = None # list of (nkeys, worker) acting as a heap, to quickly find a least busy worker\n",
      "\t\tqueue   = None  # Queue for the Coordinator to message the launching Peer with task progress\n",
      "\t\tdestinations = None\t# destinations[stage][key] gives the WorkerProxy that receives (stage, key) data\n",
      "\t\tfree_peers_last_refresh = 0\t# The last time when free_peers was refreshed from the Directory\n",
      "\t\t\t\t\t\tkeys_in, values_out = stage_status[stage] if stage in stage_status else (0, 0)\n",
      "\t\t\t\t\t'<tr><th><a href=\"{wurl}\">{wurl}</a></th>  <td>{t_started}</td> <td>{t_now}</td> <td>{running_stages}</td>  </tr>'\n",
      "\t\t\t\t\t.format(wurl=wurl, **worker.stat()) for wurl, worker in self.workers.iteritems()\n",
      "\t\t\t\t\t<tr><th>Worker</th> <th>Started On</th> <th>Local Time</th> <th>Running stages</th></tr>\n",
      "\t\t\t\tself._progress(\"THREAD_ENDED_ON_WORKER\", (wurl, stage, worker.running_stage_threads[stage]))\n",
      "\t\t\t\tassert worker.running_stage_threads[stage] == 0, worker.running_stage_threads\n",
      "\t\t\t\tself.worker_heap = [ (load - w.nkeys[stage] if w is worker else load, w) for load, w in self.worker_heap ]\n",
      "\t\t\t\tlogger.debug(\"Worker %s notified us that stage %s has ended\" % (wurl, stage))\n",
      "\t\t\t\tlogger.debug(\"Shutting down worker %s for task %s\" % (worker.url, self.url))\n",
      "\t\t\tself.free_peers = list(self.all_peers - set(w.purl for w in self.workers.itervalues()))\n",
      "\t\t\tlogger.debug(\"Refreshed the list of peers (%d all, %d unused)\" % (len(self.all_peers), len(self.free_peers)))\n",
      "\t\t\t\treturn [ (key, worker.url) for key, worker in self.destinations[stage].iteritems() ]\n",
      "\t\tself.peer_id  = np.uint64(hash(self.hostname + str(time.time())) & 0xFFFFFFFF)\n",
      "\t\tself.directory_entry = self.directory + '/' + self.hostname + ':' + str(port) + '.peer'\n",
      "\t\t\t\t'<tr><th><a href=\"{curl}\">{curl}</a></th>  <td>{task_id}</td> <td>{t_started}</td> <td>{t_now}</td> <td>{n_workers}</td>  </tr>'\n",
      "\t\t\t\t.format(curl=coordinator.url, **coordinator.stat()) for coordinator in self.coordinators.itervalues()\n",
      "\t\t\t\t<tr><th>Coordinator</th> <th>Task ID</th> <th>Started On</th> <th>Local Time</th> <th>Workers</th></tr>\n",
      "\t\t\t'<tr><th><a href=\"{purl}\">{purl}</a></th>  <td>{peer_id}</td><td>{t_started}</td><td>{t_now}</td><td>{n_coordinators}</td><td>{n_workers}</td>  </tr>'\n",
      "\t\t\t<tr><th>Peer</th> <th>Peer ID</th> <th>Started On</th> <th>Local Time</th> <th>Coordinators</th> <th>Workers</th></tr>\n",
      "\t\tlogger.debug(\"Registered in Directory as %s for %s\" % (self.directory_entry, self.url))\n",
      "\t\t\tserver, _ = start_threaded_xmlrpc_server(HTMLAndXMLRPCRequestHandler, 1023, self.hostname)\n",
      "\t\t\tcoordinator = self.coordinators[task_id] = self._Coordinator(server, self.hostname, self.url, task_id, spec, data)\n",
      "\t\t\tth = Thread(name='Coord-%03d' % (self.coordinator_ctr-1,), target=server.serve_forever, kwargs={'poll_interval': 0.1})\n",
      "\t\treturn list( file(fn).readline().strip() for fn in glob.iglob(self.directory + '/*.peer') )\n",
      "\t\t\tth = Thread(name=\"PMon-%s\" % (worker_process.pid,), target=self._monitor_worker_process, args=(task_id, worker_process, wurl,))\n",
      "\t\t\tlogger.info(\"Worker %s (pid=%s) exited with retcode=%s\" % (wurl, process.pid, retcode))\n",
      "class HTMLAndXMLRPCRequestHandler(SimpleXMLRPCServer.SimpleXMLRPCRequestHandler):\n",
      "\treturn start_server(ThreadedXMLRPCServer, HandlerClass, allow_none=True, logRequests=False, **kwargs)\n"
     ]
    }
   ],
   "source": [
    "for line in lines:\n",
    "    if len(line) > 79:\n",
    "        print line"
   ]
  },
  {
   "cell_type": "code",
   "execution_count": null,
   "metadata": {
    "collapsed": true
   },
   "outputs": [],
   "source": []
  }
 ],
 "metadata": {
  "kernelspec": {
   "display_name": "Python 2",
   "language": "python",
   "name": "python2"
  },
  "language_info": {
   "codemirror_mode": {
    "name": "ipython",
    "version": 2
   },
   "file_extension": ".py",
   "mimetype": "text/x-python",
   "name": "python",
   "nbconvert_exporter": "python",
   "pygments_lexer": "ipython2",
   "version": "2.7.10"
  }
 },
 "nbformat": 4,
 "nbformat_minor": 0
}
