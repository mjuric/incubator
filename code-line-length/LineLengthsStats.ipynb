{
 "cells": [
  {
   "cell_type": "code",
   "execution_count": 7,
   "metadata": {
    "collapsed": true
   },
   "outputs": [],
   "source": [
    "%matplotlib inline"
   ]
  },
  {
   "cell_type": "code",
   "execution_count": 39,
   "metadata": {
    "collapsed": false
   },
   "outputs": [
    {
     "name": "stdout",
     "output_type": "stream",
     "text": [
      "median line length: 48.0\n",
      "95% percentile: 84.95\n",
      "Percentile rank of 79-chars: 92.5438596491\n"
     ]
    },
    {
     "data": {
      "image/png": "[encoded data removed]",
      "text/plain": [
       "<matplotlib.figure.Figure at 0x10e177b50>"
      ]
     },
     "metadata": {},
     "output_type": "display_data"
    }
   ],
   "source": [
    "import numpy as np\n",
    "import matplotlib.pyplot as plt\n",
    "from scipy import stats\n",
    "\n",
    "lines = open('eupspkg.nodocstring.py').read().split('\\n')\n",
    "lines = [l for l in lines if len(l) > 0]   # remove zero-length lines\n",
    "lengths = np.array([len(line) for line in lines])\n",
    "\n",
    "plt.style.use('ggplot')\n",
    "plt.figure(figsize=(10,8))\n",
    "plt.hist(lengths, 100, cumulative=True, normed=True)\n",
    "\n",
    "print \"median line length: %s\" % np.median(lengths)\n",
    "print \"95%% percentile: %s\" % np.percentile(lengths, 95)\n",
    "print \"Percentile rank of 79-chars: %s\" % stats.percentileofscore(lengths, 79)"
   ]
  },
  {
   "cell_type": "code",
   "execution_count": 40,
   "metadata": {
    "collapsed": false
   },
   "outputs": [
    {
     "name": "stdout",
     "output_type": "stream",
     "text": [
      "    def __init__(self, Eups, distServ, flavor=None, tag=\"current\", options=None,\n",
      "        eupsDistrib.Distrib.__init__(self, Eups, distServ, flavor, tag, options,\n",
      "        # Prepare the string with all unrecognized options, to be passed to eupspkg on the command line\n",
      "        # FIXME: This is not the right way to do it. -S options should be preserved in a separate dict()\n",
      "        knownopts = set(['config', 'nobuild', 'noclean', 'noaction', 'exact', 'allowIncomplete', 'buildDir', 'noeups', 'installCurrent']);\n",
      "        self.qopts = \" \".join( \"%s=%s\" % (k.upper(), pipes.quote(str(v))) for k, v in self.options.iteritems() if k not in knownopts )\n",
      "    def createPackage(self, serverDir, product, version, flavor=None, overwrite=False):\n",
      "                                previously existing distribution files even if Eups.force is false\n",
      "        (baseDir, productDir) = self.getProductInstDir(product, version, flavor)\n",
      "                \"%(eupspkg)s   PREFIX=%(prefix)s PRODUCT=%(product)s VERSION=%(version)s FLAVOR=%(flavor)s %(qopts)s\" + \\\n",
      "            tfn = os.path.join(productsDir, \"%s-%s.eupspkg\" % (product, version))\n",
      "                    cmd = 'cd %s && tar czf %s %s' % (q(pkgdir0), q(tfn), q(prodSubdir))\n",
      "                                that the status of a non-flavor-specific package\n",
      "        location = self.parseDistID(self.getDistIdForPackage(product, version, flavor))\n",
      "        logfile = os.path.join(buildDir, \"build.log\") # we'll log the build to this file\n",
      "        uimsgfile = os.path.join(buildDir, \"build.msg\") # messages to be shown on the console go to this file\n",
      "        # Make sure the buildDir is empty (to avoid interference from failed builds)\n",
      "            os.chmod(buildscript, st.st_mode | stat.S_IXUSR | stat.S_IXGRP | stat.S_IXOTH)\n",
      "            cmd = \"(%s) >> %s 2>&1 4>%s\" % (q(buildscript), q(logfile), q(uimsgfile))\n",
      "                # Copy the build log into the product install directory. It's useful to keep around.\n",
      "                installDirUps = os.path.join(self.Eups.path[0], self.Eups.flavor, product, version, 'ups')\n",
      "                        print >> self.log, \"Build log file copied to %s/%s\" % (installDirUps, os.path.basename(logfile))\n",
      "                    print >> self.log, \"Build log file not copied as %s does not exist (this shouldn't happen).\" % installDirUps\n",
      "                # TODO: This should be piped in real time, not written out to a file and echoed.\n"
     ]
    }
   ],
   "source": [
    "for line in lines:\n",
    "    if len(line) > 79:\n",
    "        print line"
   ]
  },
  {
   "cell_type": "code",
   "execution_count": null,
   "metadata": {
    "collapsed": true
   },
   "outputs": [],
   "source": []
  }
 ],
 "metadata": {
  "kernelspec": {
   "display_name": "Python 2",
   "language": "python",
   "name": "python2"
  },
  "language_info": {
   "codemirror_mode": {
    "name": "ipython",
    "version": 2
   },
   "file_extension": ".py",
   "mimetype": "text/x-python",
   "name": "python",
   "nbconvert_exporter": "python",
   "pygments_lexer": "ipython2",
   "version": "2.7.10"
  }
 },
 "nbformat": 4,
 "nbformat_minor": 0
}
