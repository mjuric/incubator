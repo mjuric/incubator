{
 "cells": [
  {
   "cell_type": "markdown",
   "id": "c349f0b5",
   "metadata": {},
   "source": [
    "# Generator API for surveySimPP Integrators (DRAFT)\n",
    "\n",
    "Juric, Schwamb, Bernardinelli et al."
   ]
  },
  {
   "cell_type": "markdown",
   "id": "50a54d36",
   "metadata": {},
   "source": [
    "## Gentle intorduction to generators"
   ]
  },
  {
   "cell_type": "markdown",
   "id": "a9dbd5cf",
   "metadata": {},
   "source": [
    "What are Python generators? They are objects that generate sequences, and can be used in `for` loops.\n",
    "\n",
    "If you've ever run code such as:\n",
    "```python\n",
    "for i in range(10):\n",
    "    print(i)\n",
    "```\n",
    "you've used a generator -- the `range(10)` function returns one. These objects can be repeatedly \"asked\" for the next item in the sequence, until they're exhausted and the loop exits.\n",
    "\n",
    "As generators return one item at a time, they are incredibly useful as they allow streaming through large sequences, that may not necessarily fit into memory all at once. An example of this is reading a file line-by-line; this is also a generator, that returns the next line each time the `for` loop asks it to:\n",
    "\n",
    "```python\n",
    "with open(\"big_file.txt\") as fp:\n",
    "    for line in fp:\n",
    "        ... do something with line ...\n",
    "```\n",
    "\n",
    "These examples are all built-in generators, but Python allows us to write custom generators as well. The simplest way to do it is by writing a function that uses the `yield` keyword to return results. For example:\n",
    "\n",
    "```python\n",
    "def even_numbers(end):\n",
    "    i = 0\n",
    "    while i < end:\n",
    "        if i % 2 == 0:\n",
    "            yield i\n",
    "```\n",
    "\n",
    "This generator would be called by the user as follows:\n",
    "```python\n",
    "for i in even_numbers(100_000_000_000):\n",
    "    print(i)\n",
    "```\n",
    "to print out all even numbers amongst the first hundred trillion integers. Note that at no point in time there's more than /one/ number kept in memory -- though to a user of the for loop it seems like they're iterating through a list."
   ]
  },
  {
   "cell_type": "markdown",
   "id": "00588e47",
   "metadata": {},
   "source": [
    "Here's another generator that returns prime numbers:"
   ]
  },
  {
   "cell_type": "code",
   "execution_count": 25,
   "id": "0a1985b9",
   "metadata": {},
   "outputs": [],
   "source": [
    "def is_prime(n):\n",
    "      if n == 2 or n == 3: return True\n",
    "      if n < 2 or n%2 == 0: return False\n",
    "      if n < 9: return True\n",
    "      if n%3 == 0: return False\n",
    "      r = int(n**0.5)\n",
    "      # since all primes > 3 are of the form 6n ± 1\n",
    "      # start with f=5 (which is prime)\n",
    "      # and test f, f+2 for being prime\n",
    "      # then loop by 6. \n",
    "      f = 5\n",
    "      while f <= r:\n",
    "            if n % f == 0: return False\n",
    "            if n % (f+2) == 0: return False\n",
    "            f += 6\n",
    "      return True    \n",
    "\n",
    "# here's the generator\n",
    "def primes(start, end = None):\n",
    "    if end is None:\n",
    "        start, end = 0, start\n",
    "\n",
    "    for k in range(start, end):\n",
    "        if is_prime(k):\n",
    "            yield k"
   ]
  },
  {
   "cell_type": "code",
   "execution_count": 26,
   "id": "5e0cbe4c",
   "metadata": {},
   "outputs": [
    {
     "name": "stdout",
     "output_type": "stream",
     "text": [
      "The next prime is 2\n",
      "The next prime is 3\n",
      "The next prime is 5\n",
      "The next prime is 7\n",
      "The next prime is 11\n",
      "The next prime is 13\n",
      "The next prime is 17\n",
      "The next prime is 19\n",
      "The next prime is 23\n",
      "The next prime is 29\n"
     ]
    }
   ],
   "source": [
    "for k in primes(30):\n",
    "    print(f\"The next prime is {k}\")"
   ]
  },
  {
   "cell_type": "markdown",
   "id": "c3d31322",
   "metadata": {},
   "source": [
    "Take a look [here](https://realpython.com/introduction-to-python-generators/) to learn more about generators."
   ]
  },
  {
   "cell_type": "markdown",
   "id": "777d0344",
   "metadata": {},
   "source": [
    "## Why generators for surveySimPP's ephemerides generation module?\n",
    "\n",
    "The input to `surveySimPP` is a catalog of ephemerides of objects that may be in a set of survey visits. The module to compute this is the *ephemerides generator* (for brevity, we'll call it ephemgen here).\n",
    "\n",
    "For example, a typical LSST simulation uses a catalog of $\\sim 10$ million objects. The LSST is expected to collect about $\\sim 3$ million visits over the 10 years of the survey, with each visit being approximated by a circular FoV of $r \\sim 1.8$. \n",
    "\n",
    "**The `ephemgen` module's task is to take this catalog of $\\sim 10$M objects, compute for each visit which of those objects are in the field of view, and pass this on to surveySimPP for further, more precise, processing.**"
   ]
  },
  {
   "cell_type": "markdown",
   "id": "6f255289",
   "metadata": {},
   "source": [
    "`surveySimPP` considers the outputs of `ephemgen` on a visit-by-visit basis. One can think of this relationship as `ephgen` producing lists of ephemerides of objects present in each visit, passing it on to `surveySimPP` for further processing, then moving on to computing the ephemerides in the next field, etc.\n",
    "\n",
    "It's a *pipeline* (a *stream*) of data, and generators are Python's way to build streaming pipelines. You could easily imagine `surveySimPP` doing something like:\n",
    "\n",
    "```python\n",
    "visits = load_lsst_visit_radecs(\"pointings.txt\")\n",
    "ephgen = EphemeridesGenerator(visits, generator_config)\n",
    "for (visit_id, sources) in ephgen:\n",
    "    # sources is a Dataframe (or a numpy structured array) of ephemerides of objects\n",
    "    # that may be in visit visit_id\n",
    "    sources = rejectOutsideFootprint(sources)\n",
    "    sources = rejectTooFaint(sources)\n",
    "    sources = addTrailingParameters(sources)\n",
    "    ... do more processing ...\n",
    "\n",
    "    save_generated_sources(sources)\n",
    "```\n",
    "\n",
    "(actually, one may argue that `surveySimPP` itself should also be a generator -- rather than saving the sources itself, it should yield them back to an outer loop. We leave that for a future proposal.)\n",
    "\n",
    "The pseudocode above is readable and should be easy to understand. The details of the ephemerides generator are all very well hidden from the rest of the code, allowing both for easily swapping different `ephemgen` implementations, but also allowing for a lot of freedom on how different `ephemgen`s could be implemented.\n",
    "\n",
    "This is why we argue that a generator-based API is a good next step in the design of surveySimPP APIs."
   ]
  },
  {
   "cell_type": "markdown",
   "id": "373f9007",
   "metadata": {},
   "source": [
    "## Proposed API"
   ]
  },
  {
   "cell_type": "markdown",
   "id": "c57b4bdc",
   "metadata": {},
   "source": [
    "Any compliant `ephemgen` implementation shall satisfy the following requirements:"
   ]
  },
  {
   "cell_type": "markdown",
   "id": "0a388048",
   "metadata": {},
   "source": [
    "### Instantiation\n",
    "\n",
    "```\n",
    "ephemgen = Ephemgen(visits, orbits, **config)\n",
    "```\n",
    "\n",
    "where `visits` is a `ndarray`-like object holding a list of survey visits, guaranteed to have at least the following columns:\n",
    "* `visitId`: unique integer identifying the visit\n",
    "* `visitTimeTAI`: MJD of the visit midpoint time, in TAI\n",
    "* `ra`: J2000 R.A. of the visit center\n",
    "* `dec`: J2000 Dec of the visit center\n",
    "\n",
    "This table may also hold the following additional columns:\n",
    "* `obscode`: Obscode of the observing site. If not present, assumed to be 500 (geocenter)\n",
    "* `fov`: Field of view radius (circumscribed), in radians, of the visit. If not present, assumed to be 2 degrees.\n",
    "* `filter`: Bandpass name through which this visit was taken\n",
    "\n",
    "If these optional columns are not specified, they **must** be passable as keywords to the `Ephemgen` constructor and will be considered to apply to every visit (a common case of a single survey with a single camera).\n",
    "\n",
    "The `orbits` table is a numpy structured array-like object of state vectors in heliocentric, cometary, coordinates. It must have at least the following columns:\n",
    "* `objectId`: a string of 20 characters of less, uniquely identifying this object\n",
    "* `format`: type of the coordinate record; at the moment, only `COM` is allowed.\n",
    "* `q`: perihelion distance, AU\n",
    "* `e`: eccentricity\n",
    "* `i`: inclination (degrees)\n",
    "* `Omega`: longitude of ascending node (degrees)\n",
    "* `argperi`: argument of the perihelion (degrees)\n",
    "* `t_p`: time of perihelion (MJD, TDB)\n",
    "* `t_0`: epoch (MJD, TDB)\n",
    "\n",
    "It may have the following columns:\n",
    "* `H`: absolute magnitude in an unspecified band\n",
    "* `H<filter>`: absolute magnitude in the \\<filter\\> band (e.g. `Hr` or `Hg`, etc.)\n",
    "* `G`: slope parameter\n",
    "\n",
    "See further down for how these data are used.\n",
    "\n",
    "The `config` dictionary may contain additional initialization data for the specific implementation of `ephemgen`. It can be any kind of dictionary, but must not use keys that overlap with any of the column names that may appear in the `visits` argument."
   ]
  },
  {
   "cell_type": "markdown",
   "id": "73e90123",
   "metadata": {},
   "source": [
    "### Behavior\n",
    "\n",
    "The returned `ephemgen` object shall implement the [generator interface](https://wiki.python.org/moin/Generators).\n",
    "\n",
    "It shall be callable as follows:\n",
    "```\n",
    "for (visit_metadata, sources) in ephemgen:\n",
    "    ... do postprocessing ...\n",
    "```\n",
    "Each iteration must return the visit metadata and a table of sources for the visit.\n",
    "\n",
    "`visit_metadata` shall be a NamedTuple-like object whose member variables correspond to the columns in the `visits` table that was passed to Ephemgen constructor. I.e., it will have `visit_metadata.visitId`, `visit_metadata.ra`, `visit_metadata.dec`, etc.\n",
    "\n",
    "`sources` shall be an ndarray-like table holding the ephemerides of objects computed to be in the FoV of the particular visit. It shall contain the following columns:\n",
    "* `visitId`: unique integer identifying the visit\n",
    "* `visitTimeTAI`: MJD of the visit midpoint time, in TAI\n",
    "* `objectId`: unique string identifying the object\n",
    "* `ra`: J2000 R.A. coordinate of the object (degrees)\n",
    "* `dec`: J2000 Dec coordinate of the object (degrees)\n",
    "* `dist`: Topocentric distance (km)\n",
    "* `mag`: Apparent magnitude (see below for details)\n",
    "* `pmRa`: Proper motion, R.A. (degrees)\n",
    "* `pmDec`: Proper motion, Dec (degrees)\n",
    "* `rVel`: Radial velocity (km/s)\n",
    "* ... what else do we want to require here...?\n",
    "\n",
    "The returned table may have additional quantities, but they must be prefixed by `<ephemgen>.<fieldname>` where `<ephemgen>` is the name of this ephemeris generator, and `<fieldname>` is the name of the additional column the generator wishes to provide. Example: `assist.helio.dist` for heliocentric distance computed by the ASSIST ephemeris generator. These entries will be passed down, unchanged, through the postprocessing.\n",
    "\n",
    "The magnitude is interpreted as follow:\n",
    "\n",
    "* If `filter` was specified for a given visit, the magnitude will be computed using the `H<filter>` entry for the given object. That entry /must/ exist, or the code must return an NaN in this field.\n",
    "\n",
    "* If the `filter` was not specified for the given visit, the magnitude will be computed using the `H` entry. That entry /must/ exist, or the code must return an NaN in this field."
   ]
  },
  {
   "cell_type": "markdown",
   "id": "65159b03",
   "metadata": {},
   "source": [
    "## Questions\n",
    "\n",
    "* Should we use UT instead of TAI for the observation time? Pros: consistent with current practice: Cons: inconsistent with non-asteroid survey practice (incl. Rubin)."
   ]
  },
  {
   "cell_type": "markdown",
   "id": "c4d3a1a6",
   "metadata": {},
   "source": [
    "## Drawbacks\n",
    "\n",
    "* This does not lend itself naturally to distributed computation (at the Python level), but it's not obvious what may be the solution. On a practical level, just splitting the input catalog into chunks, running them separately, and then merging the results will get the job done."
   ]
  },
  {
   "cell_type": "markdown",
   "id": "1821ed12",
   "metadata": {},
   "source": [
    "## Alternatives"
   ]
  },
  {
   "cell_type": "markdown",
   "id": "c1948f71",
   "metadata": {},
   "source": [
    "* Use Ray (https://ray.io)? Pros: built-in parallelization, no need for external driver/split/merge code. Cons: heavy dependency, makes the API more complicated."
   ]
  }
 ],
 "metadata": {
  "kernelspec": {
   "display_name": "Python 3",
   "language": "python",
   "name": "python3"
  },
  "language_info": {
   "codemirror_mode": {
    "name": "ipython",
    "version": 3
   },
   "file_extension": ".py",
   "mimetype": "text/x-python",
   "name": "python",
   "nbconvert_exporter": "python",
   "pygments_lexer": "ipython3",
   "version": "3.7.6"
  }
 },
 "nbformat": 4,
 "nbformat_minor": 5
}
