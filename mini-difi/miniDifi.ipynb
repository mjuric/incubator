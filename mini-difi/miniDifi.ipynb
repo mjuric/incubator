{
 "cells": [
  {
   "cell_type": "code",
   "execution_count": 1,
   "id": "f6cc1dea",
   "metadata": {},
   "outputs": [],
   "source": [
    "from numba import jit, njit"
   ]
  },
  {
   "cell_type": "code",
   "execution_count": 2,
   "id": "8cfda7f5",
   "metadata": {},
   "outputs": [],
   "source": [
    "import pandas as pd\n",
    "import numpy as np\n",
    "\n",
    "df = pd.read_csv(\"test_obsv.csv\")\n",
    "df[\"night\"] = df[\"midPointTai\"].astype(int)\n",
    "df = df[df[\"_name\"] == 'mpc0540996'].drop(columns=[\"_name\"])\n",
    "obsvIn = np.asarray(df.to_records(index=False))\n",
    "obsvIn.sort(order='night')"
   ]
  },
  {
   "cell_type": "code",
   "execution_count": 4,
   "id": "3c54c65f-615d-4fab-aad1-62569de42464",
   "metadata": {},
   "outputs": [
    {
     "data": {
      "text/html": [
       "<div>\n",
       "<style scoped>\n",
       "    .dataframe tbody tr th:only-of-type {\n",
       "        vertical-align: middle;\n",
       "    }\n",
       "\n",
       "    .dataframe tbody tr th {\n",
       "        vertical-align: top;\n",
       "    }\n",
       "\n",
       "    .dataframe thead th {\n",
       "        text-align: right;\n",
       "    }\n",
       "</style>\n",
       "<table border=\"1\" class=\"dataframe\">\n",
       "  <thead>\n",
       "    <tr style=\"text-align: right;\">\n",
       "      <th></th>\n",
       "      <th>diaSourceId</th>\n",
       "      <th>midPointTai</th>\n",
       "      <th>ra</th>\n",
       "      <th>decl</th>\n",
       "      <th>night</th>\n",
       "    </tr>\n",
       "  </thead>\n",
       "  <tbody>\n",
       "    <tr>\n",
       "      <th>251</th>\n",
       "      <td>456565819875217438</td>\n",
       "      <td>60405.035931</td>\n",
       "      <td>166.201511</td>\n",
       "      <td>4.420108</td>\n",
       "      <td>60405</td>\n",
       "    </tr>\n",
       "    <tr>\n",
       "      <th>252</th>\n",
       "      <td>9685908664204596838</td>\n",
       "      <td>60778.309069</td>\n",
       "      <td>255.785579</td>\n",
       "      <td>-23.297940</td>\n",
       "      <td>60778</td>\n",
       "    </tr>\n",
       "    <tr>\n",
       "      <th>253</th>\n",
       "      <td>1860920408606229185</td>\n",
       "      <td>60778.284358</td>\n",
       "      <td>255.786144</td>\n",
       "      <td>-23.297977</td>\n",
       "      <td>60778</td>\n",
       "    </tr>\n",
       "    <tr>\n",
       "      <th>254</th>\n",
       "      <td>2990634545638022559</td>\n",
       "      <td>60779.265976</td>\n",
       "      <td>255.766504</td>\n",
       "      <td>-23.295113</td>\n",
       "      <td>60779</td>\n",
       "    </tr>\n",
       "    <tr>\n",
       "      <th>255</th>\n",
       "      <td>12089508198779188539</td>\n",
       "      <td>62598.299874</td>\n",
       "      <td>268.045630</td>\n",
       "      <td>-23.717931</td>\n",
       "      <td>62598</td>\n",
       "    </tr>\n",
       "    <tr>\n",
       "      <th>...</th>\n",
       "      <td>...</td>\n",
       "      <td>...</td>\n",
       "      <td>...</td>\n",
       "      <td>...</td>\n",
       "      <td>...</td>\n",
       "    </tr>\n",
       "    <tr>\n",
       "      <th>616</th>\n",
       "      <td>13961808854085857161</td>\n",
       "      <td>61292.237070</td>\n",
       "      <td>342.403757</td>\n",
       "      <td>-5.869725</td>\n",
       "      <td>61292</td>\n",
       "    </tr>\n",
       "    <tr>\n",
       "      <th>617</th>\n",
       "      <td>11605218288723692560</td>\n",
       "      <td>62711.207861</td>\n",
       "      <td>254.412606</td>\n",
       "      <td>-22.532797</td>\n",
       "      <td>62711</td>\n",
       "    </tr>\n",
       "    <tr>\n",
       "      <th>618</th>\n",
       "      <td>13933115650325823613</td>\n",
       "      <td>60356.285670</td>\n",
       "      <td>174.978971</td>\n",
       "      <td>0.699755</td>\n",
       "      <td>60356</td>\n",
       "    </tr>\n",
       "    <tr>\n",
       "      <th>619</th>\n",
       "      <td>11147408279388129624</td>\n",
       "      <td>60353.302957</td>\n",
       "      <td>175.396187</td>\n",
       "      <td>0.536831</td>\n",
       "      <td>60353</td>\n",
       "    </tr>\n",
       "    <tr>\n",
       "      <th>620</th>\n",
       "      <td>18007018984694973408</td>\n",
       "      <td>60356.262383</td>\n",
       "      <td>174.982558</td>\n",
       "      <td>0.698433</td>\n",
       "      <td>60356</td>\n",
       "    </tr>\n",
       "  </tbody>\n",
       "</table>\n",
       "<p>370 rows × 5 columns</p>\n",
       "</div>"
      ],
      "text/plain": [
       "              diaSourceId   midPointTai          ra       decl  night\n",
       "251    456565819875217438  60405.035931  166.201511   4.420108  60405\n",
       "252   9685908664204596838  60778.309069  255.785579 -23.297940  60778\n",
       "253   1860920408606229185  60778.284358  255.786144 -23.297977  60778\n",
       "254   2990634545638022559  60779.265976  255.766504 -23.295113  60779\n",
       "255  12089508198779188539  62598.299874  268.045630 -23.717931  62598\n",
       "..                    ...           ...         ...        ...    ...\n",
       "616  13961808854085857161  61292.237070  342.403757  -5.869725  61292\n",
       "617  11605218288723692560  62711.207861  254.412606 -22.532797  62711\n",
       "618  13933115650325823613  60356.285670  174.978971   0.699755  60356\n",
       "619  11147408279388129624  60353.302957  175.396187   0.536831  60353\n",
       "620  18007018984694973408  60356.262383  174.982558   0.698433  60356\n",
       "\n",
       "[370 rows x 5 columns]"
      ]
     },
     "execution_count": 4,
     "metadata": {},
     "output_type": "execute_result"
    }
   ],
   "source": [
    "df"
   ]
  },
  {
   "cell_type": "code",
   "execution_count": 5,
   "id": "05e5ccfd",
   "metadata": {},
   "outputs": [],
   "source": [
    "@njit\n",
    "def haversine_np(lon1, lat1, lon2, lat2):\n",
    "    \"\"\"\n",
    "    Calculate the great circle distance between two points\n",
    "    on the earth (specified in decimal degrees)\n",
    "\n",
    "    All args must be of equal length.\n",
    "\n",
    "    Because SkyCoord is slow AF.\n",
    "\n",
    "    \"\"\"\n",
    "    lon1, lat1, lon2, lat2 = map(np.radians, [lon1, lat1, lon2, lat2])\n",
    "\n",
    "    dlon = lon2 - lon1\n",
    "    dlat = lat2 - lat1\n",
    "\n",
    "    a = np.sin(dlat/2.0)**2 + np.cos(lat1) * np.cos(lat2) * np.sin(dlon/2.0)**2\n",
    "    c = 2 * np.arcsin(np.sqrt(a))\n",
    "    return np.degrees(c)\n",
    "\n",
    "# Construct a list of nights that have detectable tracklets\n",
    "@njit\n",
    "def hasTracklet(t, ra, dec, maxdt_minutes, minlen_arcsec):\n",
    "    \"\"\"\n",
    "    Given a set of observations in one night, calculate it has at least one\n",
    "    detectable tracklet.\n",
    "    \n",
    "    Inputs: numpy arrays of t (time, days), ra (degrees), dec(degrees).\n",
    "    \n",
    "    Output: True or False\n",
    "    \"\"\"\n",
    "    ## a tracklet must be longer than some minimum separation (1arcsec)\n",
    "    ## and shorter than some maximum time (90 minutes). We find\n",
    "    ## tracklets by taking all observations in a night and computing\n",
    "    ## all of theirs pairwise distances, then selecting on that.\n",
    "    nobs = len(ra)\n",
    "    if nobs < 2:\n",
    "        return False\n",
    "\n",
    "    maxdt = maxdt_minutes / (60*24)\n",
    "    minlen = minlen_arcsec / 3600\n",
    "\n",
    "    for i in range(nobs):\n",
    "        for j in range(nobs):\n",
    "            diff = t[i] - t[j]\n",
    "            if diff > 0 and diff < maxdt:\n",
    "                sep = haversine_np(ra[i], dec[i], ra[j], dec[j])\n",
    "                if sep > minlen:\n",
    "                    return True\n",
    "\n",
    "    return False\n",
    "\n",
    "@njit\n",
    "def trackletsInNights(obsv, maxdt_minutes, minlen_arcsec):\n",
    "    # given a table of observations SORTED BY OBSERVATION TIME (!)\n",
    "    # of a single object, compute for each night whether it has\n",
    "    # at least one discoverable tracklet.\n",
    "    #\n",
    "    # Returns: (nights, hasTrk), two ndarrays where the first is a\n",
    "    #          list of unique nights, and hasTrk is a bool array\n",
    "    #          denoting if it has or has not a discoverable tracklet.\n",
    "\n",
    "    nights = np.unique(obsv[\"night\"])\n",
    "    hasTrk = np.zeros(len(nights), dtype='bool')\n",
    "\n",
    "    mjd, ra, dec = obsv[\"midPointTai\"], obsv[\"ra\"], obsv[\"decl\"]\n",
    "    i = np.searchsorted(obsv[\"night\"], nights, side='right')\n",
    "\n",
    "    # for each night, test if it has a tracklet\n",
    "    b = 0\n",
    "    for k, e in enumerate(i):\n",
    "        hasTrk[k] = hasTracklet(mjd[b:e], ra[b:e], dec[b:e], maxdt_minutes, minlen_arcsec)\n",
    "        b = e\n",
    "\n",
    "    return nights, hasTrk\n",
    "\n",
    "@njit\n",
    "def discoveryOpportunities(nights, nightHasTracklets, window, nlink, p):\n",
    "    # Find all nights where a trailing window of <window> nights\n",
    "    # (including the current night) has at least <nlink> tracklets.\n",
    "    #\n",
    "    # algorithm: create an array of length [0 ... num_nights],\n",
    "    #    representing the nights where there are tracklets.\n",
    "    #    populate it with the tracklets (1 for each night where)\n",
    "    #    there's a detectable tracklet. Then convolve it with a\n",
    "    #    <window>-length window (we do this with .cumsum() and\n",
    "    #    then subtracting the shifted array -- basic integration) \n",
    "    #    And then find nights where the # of tracklets >= nlink\n",
    "    #\n",
    "    n0, n1 = nights.min(), nights.max()\n",
    "    nlen = n1 - n0 + 1\n",
    "    arr = np.zeros(nlen, dtype='i8')\n",
    "    arr[nights - n0] = nightHasTracklets\n",
    "    arr = arr.cumsum()\n",
    "    arr[window:] -= arr[:-window].copy()\n",
    "    disc = (arr >= nlink).nonzero()[0] + n0\n",
    "\n",
    "    # we're not done yet. the above gives us a list of nights when\n",
    "    #    the object is discoverable, but this involves many duplicates\n",
    "    #    (e.g., if there are tracklets on nights 3, 4, and 5, the object)\n",
    "    #    will be discoverable on nights 5 through 17. What we really\n",
    "    #    need is a list of nights with unique discovery opportunities.\n",
    "    # algorithm: we essentially do the same as above, but instead of\n",
    "    #    filling an array with \"1\", for each night with a tracklet, we\n",
    "    #    fill it with a random number. The idea is that when we do the\n",
    "    #    convolution, these random numbers will sum up to unique sums\n",
    "    #    every time the same three (or more) tracklets make up for a\n",
    "    #    discovery opportunity. We then find unique discovery\n",
    "    #    opportunities by filtering on when the sums change.\n",
    "    arr2 = np.zeros(nlen)\n",
    "    arr2[nights - n0] = np.random.rand(len(nights))\n",
    "    arr2 = arr2.cumsum()\n",
    "    arr[window:] -= arr[:-window].copy()\n",
    "    arr2 = arr2[disc - n0]\n",
    "    arr2[1:] -= arr2[:-1].copy()\n",
    "    disc = disc[arr2.nonzero()]\n",
    "    \n",
    "    # finally, at every discovery opportunity we have a probability <p>\n",
    "    # to discover the object. Figure out when we'll discover it.\n",
    "    discN = (np.random.rand(len(disc)) < p).nonzero()[0]\n",
    "    discIdx = discN[0] if len(discN) else -1\n",
    "\n",
    "    return discIdx, disc\n",
    "\n",
    "def computeDiscovery(obsv, maxdt_minutes=90, minlen_arcsec=1., window=14, nlink=3, p=0.95):\n",
    "    discoveryObservationId = -1\n",
    "    discoverySubmissionDate = np.nan\n",
    "    discoveryChances = 0\n",
    "\n",
    "    if len(obsv):\n",
    "        obsv = np.sort(obsv, order='night')\n",
    "        nights, hasTrk = trackletsInNights(obsv, maxdt_minutes, minlen_arcsec)\n",
    "        discIdx, discNights = discoveryOpportunities(nights, hasTrk, window, nlink, p)\n",
    "        if discIdx != -1:\n",
    "            discoveryChances = len(discNights)\n",
    "            discoverySubmissionDate = discNights[discIdx]\n",
    "\n",
    "            # find the first observation on the discovery date\n",
    "            i, j = np.searchsorted(obsv[\"night\"], [discoverySubmissionDate, discoverySubmissionDate+1])\n",
    "            k = i + np.argmin(obsv[\"midPointTai\"][i:j])\n",
    "            discoveryObservationId = obsv[\"diaSourceId\"][k]\n",
    "\n",
    "    return discoveryObservationId, discoverySubmissionDate, discoveryChances\n"
   ]
  },
  {
   "cell_type": "code",
   "execution_count": 6,
   "id": "071281ab",
   "metadata": {},
   "outputs": [
    {
     "data": {
      "text/plain": [
       "(13937392928674177205, 60350, 76)"
      ]
     },
     "execution_count": 6,
     "metadata": {},
     "output_type": "execute_result"
    }
   ],
   "source": [
    "disc = computeDiscovery(obsvIn)\n",
    "disc"
   ]
  },
  {
   "cell_type": "code",
   "execution_count": 7,
   "id": "c415f019",
   "metadata": {},
   "outputs": [
    {
     "name": "stdout",
     "output_type": "stream",
     "text": [
      "138 µs ± 2.73 µs per loop (mean ± std. dev. of 7 runs, 10,000 loops each)\n"
     ]
    }
   ],
   "source": [
    "%%timeit\n",
    "disc = computeDiscovery(obsvIn)\n",
    "#print(len(disc[1]))"
   ]
  },
  {
   "cell_type": "code",
   "execution_count": 8,
   "id": "e8ffba83",
   "metadata": {},
   "outputs": [
    {
     "data": {
      "text/plain": [
       "370"
      ]
     },
     "execution_count": 8,
     "metadata": {},
     "output_type": "execute_result"
    }
   ],
   "source": [
    "len(obsvIn)"
   ]
  },
  {
   "cell_type": "code",
   "execution_count": 12,
   "id": "fb52ab75",
   "metadata": {},
   "outputs": [],
   "source": [
    "#%%timeit\n",
    "obsv = np.sort(obsvIn, order='night')\n",
    "nights, hasTrk = trackletsInNights(obsv, maxdt_minutes=90, minlen_arcsec=1.)\n",
    "disc = discoveryOpportunities(nights, hasTrk, window=14, nlink=3, p=0.95)\n",
    "#print(len(disc[1]))"
   ]
  },
  {
   "cell_type": "code",
   "execution_count": 13,
   "id": "9e0505a8",
   "metadata": {},
   "outputs": [
    {
     "name": "stdout",
     "output_type": "stream",
     "text": [
      "76\n"
     ]
    }
   ],
   "source": [
    "print(len(disc[1]))"
   ]
  },
  {
   "cell_type": "code",
   "execution_count": 16,
   "id": "67af4d0b",
   "metadata": {},
   "outputs": [
    {
     "name": "stdout",
     "output_type": "stream",
     "text": [
      "7.66 ms ± 799 µs per loop (mean ± std. dev. of 7 runs, 100 loops each)\n"
     ]
    }
   ],
   "source": [
    "%%timeit\n",
    "df2 = df.groupby(\"night\").apply(lambda x: hasTracklet(x[\"midPointTai\"].values, x[\"ra\"].values, x[\"decl\"].values,  maxdt_minutes=90, minlen_arcsec=1.))\n",
    "disc = discoveryOpportunities(df2.index.values, df2.values, window=14, nlink=3, p=0.95)\n",
    "#print(len(disc[1]))"
   ]
  },
  {
   "cell_type": "code",
   "execution_count": 17,
   "id": "7f89090c",
   "metadata": {},
   "outputs": [
    {
     "name": "stdout",
     "output_type": "stream",
     "text": [
      "76\n"
     ]
    }
   ],
   "source": [
    "print(len(disc[1]))"
   ]
  },
  {
   "cell_type": "code",
   "execution_count": null,
   "id": "92ded90e",
   "metadata": {},
   "outputs": [],
   "source": [
    "# >>> a = random.randint(10, 100, 100000)\n",
    "# >>> a.flags.writeable = False\n",
    "# >>> %timeit hash(a.data)\n",
    "# 100 loops, best of 3: 2.01 ms per loop\n",
    "# >>> %timeit hash(a.tostring())\n",
    "# 100 loops, best of 3: 2.28 ms per loop"
   ]
  },
  {
   "cell_type": "code",
   "execution_count": 66,
   "id": "f6c11f12",
   "metadata": {},
   "outputs": [
    {
     "data": {
      "text/plain": [
       "{'blake2b',\n",
       " 'blake2s',\n",
       " 'md5',\n",
       " 'md5-sha1',\n",
       " 'ripemd160',\n",
       " 'sha1',\n",
       " 'sha224',\n",
       " 'sha256',\n",
       " 'sha384',\n",
       " 'sha3_224',\n",
       " 'sha3_256',\n",
       " 'sha3_384',\n",
       " 'sha3_512',\n",
       " 'sha512',\n",
       " 'sha512_224',\n",
       " 'sha512_256',\n",
       " 'shake_128',\n",
       " 'shake_256',\n",
       " 'sm3'}"
      ]
     },
     "execution_count": 66,
     "metadata": {},
     "output_type": "execute_result"
    }
   ],
   "source": [
    "import hashlib\n",
    "hashlib.algorithms_available"
   ]
  },
  {
   "cell_type": "code",
   "execution_count": 72,
   "id": "890e5471",
   "metadata": {},
   "outputs": [
    {
     "name": "stdout",
     "output_type": "stream",
     "text": [
      "14.4 µs ± 391 ns per loop (mean ± std. dev. of 7 runs, 100,000 loops each)\n"
     ]
    }
   ],
   "source": [
    "%%timeit\n",
    "res = int.from_bytes(hashlib.sha1(obsvIn.data.tobytes()).digest()[-8:], byteorder='little', signed=False)"
   ]
  },
  {
   "cell_type": "code",
   "execution_count": 85,
   "id": "37fc9e79",
   "metadata": {},
   "outputs": [
    {
     "name": "stdout",
     "output_type": "stream",
     "text": [
      "8.71 µs ± 152 ns per loop (mean ± std. dev. of 7 runs, 100,000 loops each)\n"
     ]
    }
   ],
   "source": [
    "%%timeit\n",
    "res = hash(obsvIn.data.tobytes())"
   ]
  },
  {
   "cell_type": "code",
   "execution_count": 79,
   "id": "b8ff53c4",
   "metadata": {},
   "outputs": [
    {
     "name": "stdout",
     "output_type": "stream",
     "text": [
      "987 ns ± 5.99 ns per loop (mean ± std. dev. of 7 runs, 1,000,000 loops each)\n"
     ]
    }
   ],
   "source": [
    "%%timeit\n",
    "res = obsvIn.data.tobytes()"
   ]
  },
  {
   "cell_type": "code",
   "execution_count": 97,
   "id": "ee5d02c7",
   "metadata": {},
   "outputs": [
    {
     "name": "stdout",
     "output_type": "stream",
     "text": [
      "12.5 µs ± 260 ns per loop (mean ± std. dev. of 7 runs, 100,000 loops each)\n"
     ]
    }
   ],
   "source": [
    "%%timeit\n",
    "prob = int.from_bytes(hashlib.sha1(obsvIn.data.tobytes()).digest()[-8:], byteorder='little', signed=False) / 0xFFFF_FFFF_FFFF_FFFF\n",
    "prob"
   ]
  },
  {
   "cell_type": "code",
   "execution_count": 98,
   "id": "1c136027",
   "metadata": {},
   "outputs": [
    {
     "name": "stdout",
     "output_type": "stream",
     "text": [
      "15.6 µs ± 136 ns per loop (mean ± std. dev. of 7 runs, 100,000 loops each)\n"
     ]
    }
   ],
   "source": [
    "%%timeit\n",
    "prob = np.frombuffer(\n",
    "        hashlib.sha1(obsvIn.data.tobytes()).digest()[-8:],\n",
    "        dtype=np.uint64\n",
    "       ) / 0xFFFF_FFFF_FFFF_FFFF\n",
    "prob"
   ]
  },
  {
   "cell_type": "code",
   "execution_count": null,
   "id": "7c972f47",
   "metadata": {},
   "outputs": [],
   "source": [
    "np.int64.f"
   ]
  }
 ],
 "metadata": {
  "kernelspec": {
   "display_name": "Python 3 (ipykernel)",
   "language": "python",
   "name": "python3"
  },
  "language_info": {
   "codemirror_mode": {
    "name": "ipython",
    "version": 3
   },
   "file_extension": ".py",
   "mimetype": "text/x-python",
   "name": "python",
   "nbconvert_exporter": "python",
   "pygments_lexer": "ipython3",
   "version": "3.11.5"
  }
 },
 "nbformat": 4,
 "nbformat_minor": 5
}
