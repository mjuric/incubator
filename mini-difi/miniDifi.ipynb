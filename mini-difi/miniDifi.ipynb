{
 "cells": [
  {
   "cell_type": "code",
   "execution_count": 20,
   "id": "f6cc1dea",
   "metadata": {},
   "outputs": [],
   "source": [
    "from numba import jit, njit"
   ]
  },
  {
   "cell_type": "code",
   "execution_count": 76,
   "id": "8cfda7f5",
   "metadata": {},
   "outputs": [],
   "source": [
    "import pandas as pd\n",
    "import numpy as np\n",
    "\n",
    "df = pd.read_csv(\"test_obsv.csv\")\n",
    "df[\"night\"] = df[\"midPointTai\"].astype(int)\n",
    "df = df[df[\"_name\"] == 'mpc0540996'].drop(columns=[\"_name\"])\n",
    "obsvIn = np.asarray(df.to_records(index=False))\n",
    "obsvIn.sort(order='night')"
   ]
  },
  {
   "cell_type": "code",
   "execution_count": 53,
   "id": "05e5ccfd",
   "metadata": {},
   "outputs": [],
   "source": [
    "@njit\n",
    "def haversine_np(lon1, lat1, lon2, lat2):\n",
    "    \"\"\"\n",
    "    Calculate the great circle distance between two points\n",
    "    on the earth (specified in decimal degrees)\n",
    "\n",
    "    All args must be of equal length.\n",
    "\n",
    "    Because SkyCoord is slow AF.\n",
    "\n",
    "    \"\"\"\n",
    "    lon1, lat1, lon2, lat2 = map(np.radians, [lon1, lat1, lon2, lat2])\n",
    "\n",
    "    dlon = lon2 - lon1\n",
    "    dlat = lat2 - lat1\n",
    "\n",
    "    a = np.sin(dlat/2.0)**2 + np.cos(lat1) * np.cos(lat2) * np.sin(dlon/2.0)**2\n",
    "    c = 2 * np.arcsin(np.sqrt(a))\n",
    "    return np.degrees(c)\n",
    "\n",
    "# Construct a list of nights that have detectable tracklets\n",
    "@njit\n",
    "def hasTracklet(t, ra, dec, maxdt_minutes, minlen_arcsec):\n",
    "    \"\"\"\n",
    "    Given a set of observations in one night, calculate it has at least one\n",
    "    detectable tracklet.\n",
    "    \n",
    "    Inputs: numpy arrays of t (time, days), ra (degrees), dec(degrees).\n",
    "    \n",
    "    Output: True or False\n",
    "    \"\"\"\n",
    "    ## a tracklet must be longer than some minimum separation (1arcsec)\n",
    "    ## and shorter than some maximum time (90 minutes). We find\n",
    "    ## tracklets by taking all observations in a night and computing\n",
    "    ## all of theirs pairwise distances, then selecting on that.\n",
    "    nobs = len(ra)\n",
    "    if nobs < 2:\n",
    "        return False\n",
    "\n",
    "    maxdt = maxdt_minutes / (60*24)\n",
    "    minlen = minlen_arcsec / 3600\n",
    "\n",
    "    for i in range(nobs):\n",
    "        for j in range(nobs):\n",
    "            diff = t[i] - t[j]\n",
    "            if diff > 0 and diff < maxdt:\n",
    "                sep = haversine_np(ra[i], dec[i], ra[j], dec[j])\n",
    "                if sep > minlen:\n",
    "                    return True\n",
    "\n",
    "    return False\n",
    "\n",
    "@njit\n",
    "def trackletsInNights(obsv, maxdt_minutes, minlen_arcsec):\n",
    "    # given a table of observations SORTED BY OBSERVATION TIME (!)\n",
    "    # of a single object, compute for each night whether it has\n",
    "    # at least one discoverable tracklet.\n",
    "    #\n",
    "    # Returns: (nights, hasTrk), two ndarrays where the first is a\n",
    "    #          list of unique nights, and hasTrk is a bool array\n",
    "    #          denoting if it has or has not a discoverable tracklet.\n",
    "\n",
    "    nights = np.unique(obsv[\"night\"])\n",
    "    hasTrk = np.zeros(len(nights), dtype='bool')\n",
    "\n",
    "    mjd, ra, dec = obsv[\"midPointTai\"], obsv[\"ra\"], obsv[\"decl\"]\n",
    "    i = np.searchsorted(obsv[\"night\"], nights, side='right')\n",
    "\n",
    "    # for each night, test if it has a tracklet\n",
    "    b = 0\n",
    "    for k, e in enumerate(i):\n",
    "        hasTrk[k] = hasTracklet(mjd[b:e], ra[b:e], dec[b:e], maxdt_minutes, minlen_arcsec)\n",
    "        b = e\n",
    "\n",
    "    return nights, hasTrk\n",
    "\n",
    "@njit\n",
    "def discoveryOpportunities(nights, nightHasTracklets, window, nlink, p):\n",
    "    # Find all nights where a trailing window of <window> nights\n",
    "    # (including the current night) has at least <nlink> tracklets.\n",
    "    #\n",
    "    # algorithm: create an array of length [0 ... num_nights],\n",
    "    #    representing the nights where there are tracklets.\n",
    "    #    populate it with the tracklets (1 for each night where)\n",
    "    #    there's a detectable tracklet. Then convolve it with a\n",
    "    #    <window>-length window (we do this with .cumsum() and\n",
    "    #    then subtracting the shifted array -- basic integration) \n",
    "    #    And then find nights where the # of tracklets >= nlink\n",
    "    #\n",
    "    n0, n1 = nights.min(), nights.max()\n",
    "    nlen = n1 - n0 + 1\n",
    "    arr = np.zeros(nlen, dtype='i8')\n",
    "    arr[nights - n0] = nightHasTracklets\n",
    "    arr = arr.cumsum()\n",
    "    arr[window:] -= arr[:-window].copy()\n",
    "    disc = (arr >= nlink).nonzero()[0] + n0\n",
    "\n",
    "    # we're not done yet. the above gives us a list of nights when\n",
    "    #    the object is discoverable, but this involves many duplicates\n",
    "    #    (e.g., if there are tracklets on nights 3, 4, and 5, the object)\n",
    "    #    will be discoverable on nights 5 through 17. What we really\n",
    "    #    need is a list of nights with unique discovery opportunities.\n",
    "    # algorithm: we essentially do the same as above, but instead of\n",
    "    #    filling an array with \"1\", for each night with a tracklet, we\n",
    "    #    fill it with a random number. The idea is that when we do the\n",
    "    #    convolution, these random numbers will sum up to unique sums\n",
    "    #    every time the same three (or more) tracklets make up for a\n",
    "    #    discovery opportunity. We then find unique discovery\n",
    "    #    opportunities by filtering on when the sums change.\n",
    "    arr2 = np.zeros(nlen)\n",
    "    arr2[nights - n0] = np.random.rand(len(nights))\n",
    "    arr2 = arr2.cumsum()\n",
    "    arr[window:] -= arr[:-window].copy()\n",
    "    arr2 = arr2[disc - n0]\n",
    "    arr2[1:] -= arr2[:-1].copy()\n",
    "    disc = disc[arr2.nonzero()]\n",
    "    \n",
    "    # finally, at every discovery opportunity we have a probability <p>\n",
    "    # to discover the object. Figure out when we'll discover it.\n",
    "    discN = (np.random.rand(len(disc)) < p).nonzero()[0]\n",
    "    discIdx = discN[0] if len(discN) else -1\n",
    "\n",
    "    return discIdx, disc\n",
    "\n",
    "def computeDiscovery(obsv, maxdt_minutes=90, minlen_arcsec=1., window=14, nlink=3, p=0.95):\n",
    "    discoveryObservationId = -1\n",
    "    discoverySubmissionDate = np.nan\n",
    "    discoveryChances = 0\n",
    "\n",
    "    if len(obsv):\n",
    "        obsv = np.sort(obsv, order='night')\n",
    "        nights, hasTrk = trackletsInNights(obsv, maxdt_minutes, minlen_arcsec)\n",
    "        discIdx, discNights = discoveryOpportunities(nights, hasTrk, window, nlink, p)\n",
    "        if discIdx != -1:\n",
    "            discoveryChances = len(discNights)\n",
    "            discoverySubmissionDate = discNights[discIdx]\n",
    "\n",
    "            # find the first observation on the discovery date\n",
    "            i, j = np.searchsorted(obsv[\"night\"], [discoverySubmissionDate, discoverySubmissionDate+1])\n",
    "            k = i + np.argmin(obsv[\"midPointTai\"][i:j])\n",
    "            discoveryObservationId = obsv[\"diaSourceId\"][k]\n",
    "\n",
    "    return discoveryObservationId, discoverySubmissionDate, discoveryChances\n"
   ]
  },
  {
   "cell_type": "code",
   "execution_count": 57,
   "id": "071281ab",
   "metadata": {},
   "outputs": [
    {
     "data": {
      "text/plain": [
       "(13937392928674177205, 60350, 76)"
      ]
     },
     "execution_count": 57,
     "metadata": {},
     "output_type": "execute_result"
    }
   ],
   "source": [
    "disc = computeDiscovery(obsvIn)\n",
    "disc"
   ]
  },
  {
   "cell_type": "code",
   "execution_count": 56,
   "id": "c415f019",
   "metadata": {},
   "outputs": [
    {
     "name": "stdout",
     "output_type": "stream",
     "text": [
      "193 µs ± 3.86 µs per loop (mean ± std. dev. of 7 runs, 10,000 loops each)\n"
     ]
    }
   ],
   "source": [
    "%%timeit\n",
    "disc = computeDiscovery(obsvIn)\n",
    "#print(len(disc[1]))"
   ]
  },
  {
   "cell_type": "code",
   "execution_count": 30,
   "id": "e8ffba83",
   "metadata": {},
   "outputs": [
    {
     "data": {
      "text/plain": [
       "370"
      ]
     },
     "execution_count": 30,
     "metadata": {},
     "output_type": "execute_result"
    }
   ],
   "source": [
    "len(obsvIn)"
   ]
  },
  {
   "cell_type": "code",
   "execution_count": 13,
   "id": "fb52ab75",
   "metadata": {},
   "outputs": [],
   "source": [
    "#%%timeit\n",
    "obsv = np.sort(obsvIn, order='night')\n",
    "nights, hasTrk = trackletsInNights(obsv)\n",
    "disc = discoveryOpportunities(nights, hasTrk)\n",
    "#print(len(disc[1]))"
   ]
  },
  {
   "cell_type": "code",
   "execution_count": 14,
   "id": "9e0505a8",
   "metadata": {},
   "outputs": [
    {
     "name": "stdout",
     "output_type": "stream",
     "text": [
      "76\n"
     ]
    }
   ],
   "source": [
    "print(len(disc[1]))"
   ]
  },
  {
   "cell_type": "code",
   "execution_count": 17,
   "id": "67af4d0b",
   "metadata": {},
   "outputs": [
    {
     "name": "stdout",
     "output_type": "stream",
     "text": [
      "15.6 ms ± 663 µs per loop (mean ± std. dev. of 7 runs, 100 loops each)\n"
     ]
    }
   ],
   "source": [
    "%%timeit\n",
    "df2 = df.groupby(\"night\").apply(lambda x: hasTracklet(x[\"midPointTai\"].values, x[\"ra\"].values, x[\"decl\"].values))\n",
    "disc = discoveryOpportunities(df2.index.values, df2.values)\n",
    "#print(len(disc[1]))"
   ]
  },
  {
   "cell_type": "code",
   "execution_count": 18,
   "id": "7f89090c",
   "metadata": {},
   "outputs": [
    {
     "ename": "TypeError",
     "evalue": "object of type 'numpy.int64' has no len()",
     "output_type": "error",
     "traceback": [
      "\u001b[0;31m---------------------------------------------------------------------------\u001b[0m",
      "\u001b[0;31mTypeError\u001b[0m                                 Traceback (most recent call last)",
      "Cell \u001b[0;32mIn[18], line 1\u001b[0m\n\u001b[0;32m----> 1\u001b[0m \u001b[38;5;28mprint\u001b[39m(\u001b[38;5;28;43mlen\u001b[39;49m\u001b[43m(\u001b[49m\u001b[43mdisc\u001b[49m\u001b[43m[\u001b[49m\u001b[38;5;241;43m1\u001b[39;49m\u001b[43m]\u001b[49m\u001b[43m)\u001b[49m)\n",
      "\u001b[0;31mTypeError\u001b[0m: object of type 'numpy.int64' has no len()"
     ]
    }
   ],
   "source": [
    "print(len(disc[1]))"
   ]
  },
  {
   "cell_type": "code",
   "execution_count": null,
   "id": "92ded90e",
   "metadata": {},
   "outputs": [],
   "source": [
    "# >>> a = random.randint(10, 100, 100000)\n",
    "# >>> a.flags.writeable = False\n",
    "# >>> %timeit hash(a.data)\n",
    "# 100 loops, best of 3: 2.01 ms per loop\n",
    "# >>> %timeit hash(a.tostring())\n",
    "# 100 loops, best of 3: 2.28 ms per loop"
   ]
  },
  {
   "cell_type": "code",
   "execution_count": 66,
   "id": "f6c11f12",
   "metadata": {},
   "outputs": [
    {
     "data": {
      "text/plain": [
       "{'blake2b',\n",
       " 'blake2s',\n",
       " 'md5',\n",
       " 'md5-sha1',\n",
       " 'ripemd160',\n",
       " 'sha1',\n",
       " 'sha224',\n",
       " 'sha256',\n",
       " 'sha384',\n",
       " 'sha3_224',\n",
       " 'sha3_256',\n",
       " 'sha3_384',\n",
       " 'sha3_512',\n",
       " 'sha512',\n",
       " 'sha512_224',\n",
       " 'sha512_256',\n",
       " 'shake_128',\n",
       " 'shake_256',\n",
       " 'sm3'}"
      ]
     },
     "execution_count": 66,
     "metadata": {},
     "output_type": "execute_result"
    }
   ],
   "source": [
    "import hashlib\n",
    "hashlib.algorithms_available"
   ]
  },
  {
   "cell_type": "code",
   "execution_count": 72,
   "id": "890e5471",
   "metadata": {},
   "outputs": [
    {
     "name": "stdout",
     "output_type": "stream",
     "text": [
      "14.4 µs ± 391 ns per loop (mean ± std. dev. of 7 runs, 100,000 loops each)\n"
     ]
    }
   ],
   "source": [
    "%%timeit\n",
    "res = int.from_bytes(hashlib.sha1(obsvIn.data.tobytes()).digest()[-8:], byteorder='little', signed=False)"
   ]
  },
  {
   "cell_type": "code",
   "execution_count": 85,
   "id": "37fc9e79",
   "metadata": {},
   "outputs": [
    {
     "name": "stdout",
     "output_type": "stream",
     "text": [
      "8.71 µs ± 152 ns per loop (mean ± std. dev. of 7 runs, 100,000 loops each)\n"
     ]
    }
   ],
   "source": [
    "%%timeit\n",
    "res = hash(obsvIn.data.tobytes())"
   ]
  },
  {
   "cell_type": "code",
   "execution_count": 79,
   "id": "b8ff53c4",
   "metadata": {},
   "outputs": [
    {
     "name": "stdout",
     "output_type": "stream",
     "text": [
      "987 ns ± 5.99 ns per loop (mean ± std. dev. of 7 runs, 1,000,000 loops each)\n"
     ]
    }
   ],
   "source": [
    "%%timeit\n",
    "res = obsvIn.data.tobytes()"
   ]
  },
  {
   "cell_type": "code",
   "execution_count": 97,
   "id": "ee5d02c7",
   "metadata": {},
   "outputs": [
    {
     "name": "stdout",
     "output_type": "stream",
     "text": [
      "12.5 µs ± 260 ns per loop (mean ± std. dev. of 7 runs, 100,000 loops each)\n"
     ]
    }
   ],
   "source": [
    "%%timeit\n",
    "prob = int.from_bytes(hashlib.sha1(obsvIn.data.tobytes()).digest()[-8:], byteorder='little', signed=False) / 0xFFFF_FFFF_FFFF_FFFF\n",
    "prob"
   ]
  },
  {
   "cell_type": "code",
   "execution_count": 98,
   "id": "1c136027",
   "metadata": {},
   "outputs": [
    {
     "name": "stdout",
     "output_type": "stream",
     "text": [
      "15.6 µs ± 136 ns per loop (mean ± std. dev. of 7 runs, 100,000 loops each)\n"
     ]
    }
   ],
   "source": [
    "%%timeit\n",
    "prob = np.frombuffer(\n",
    "        hashlib.sha1(obsvIn.data.tobytes()).digest()[-8:],\n",
    "        dtype=np.uint64\n",
    "       ) / 0xFFFF_FFFF_FFFF_FFFF\n",
    "prob"
   ]
  },
  {
   "cell_type": "code",
   "execution_count": null,
   "id": "7c972f47",
   "metadata": {},
   "outputs": [],
   "source": [
    "np.int64.f"
   ]
  }
 ],
 "metadata": {
  "kernelspec": {
   "display_name": "Python 3 (ipykernel)",
   "language": "python",
   "name": "python3"
  },
  "language_info": {
   "codemirror_mode": {
    "name": "ipython",
    "version": 3
   },
   "file_extension": ".py",
   "mimetype": "text/x-python",
   "name": "python",
   "nbconvert_exporter": "python",
   "pygments_lexer": "ipython3",
   "version": "3.10.9"
  }
 },
 "nbformat": 4,
 "nbformat_minor": 5
}
